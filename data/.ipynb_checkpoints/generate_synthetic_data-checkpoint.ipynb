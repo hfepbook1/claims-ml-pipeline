{
 "cells": [
  {
   "cell_type": "code",
   "execution_count": 12,
   "id": "8d33193f-311a-4ea7-b413-023fc0ac22c8",
   "metadata": {},
   "outputs": [
    {
     "name": "stdout",
     "output_type": "stream",
     "text": [
      "Synthetic data saved to data/synthetic_claims.csv\n"
     ]
    }
   ],
   "source": [
    "import numpy as np\n",
    "import pandas as pd\n",
    "\n",
    "NUM_RECORDS = 100000\n",
    "np.random.seed(42)\n",
    "\n",
    "# Define categorical choices\n",
    "genders = ['F', 'M']\n",
    "regions = ['Northeast', 'Midwest', 'South', 'West']\n",
    "provider_types = ['PrimaryCare', 'Specialist', 'Hospital', 'UrgentCare']\n",
    "diagnoses = ['None', 'Diabetes', 'Heart Disease', 'Orthopedic', 'Cancer']\n",
    "\n",
    "# Sample features\n",
    "age = np.random.randint(0, 90, size=NUM_RECORDS)\n",
    "gender = np.random.choice(genders, size=NUM_RECORDS, p=[0.51, 0.49])  # slight female majority\n",
    "region = np.random.choice(regions, size=NUM_RECORDS)\n",
    "provider_type = np.random.choice(provider_types, size=NUM_RECORDS, p=[0.3, 0.3, 0.3, 0.1])\n",
    "chronic_count = np.random.poisson(lam=1.5, size=NUM_RECORDS)  # most have 0-3 chronic conditions\n",
    "# Ensure chronic_count is within a reasonable range\n",
    "chronic_count = np.clip(chronic_count, 0, 10)\n",
    "primary_dx = np.random.choice(diagnoses, size=NUM_RECORDS, \n",
    "                              p=[0.5, 0.2, 0.15, 0.1, 0.05])\n",
    "num_visits = np.random.poisson(lam=2, size=NUM_RECORDS)\n",
    "num_er_visits = np.random.poisson(lam=0.5, size=NUM_RECORDS)\n",
    "num_inpatient_stays = np.random.poisson(lam=0.2, size=NUM_RECORDS)\n",
    "\n",
    "# Generate claim_cost with some base factors\n",
    "base_cost = 50 + age * 5 + chronic_count * 200  # base cost grows with age and conditions\n",
    "# Additional cost if inpatient or many ER visits\n",
    "base_cost += np.where(num_inpatient_stays > 0, 10000, 0) \n",
    "base_cost += num_er_visits * 500 \n",
    "# Additional cost if provider is a hospital (assuming hospital claims are higher)\n",
    "base_cost += np.where(provider_type == 'Hospital', 2000, 0)\n",
    "# Add random noise\n",
    "claim_cost = base_cost + np.random.normal(loc=0, scale=2000, size=NUM_RECORDS)\n",
    "claim_cost = np.clip(claim_cost, 100, None)  # minimum cost 100\n",
    "\n",
    "# Generate is_fraud (rare ~5%, with higher odds for high cost)\n",
    "is_fraud = np.zeros(NUM_RECORDS, dtype=int)\n",
    "# Mark some claims as fraud at random\n",
    "fraud_prob = 0.05 + 0.15 * (claim_cost > 20000)  # higher fraud probability for very high cost\n",
    "is_fraud = (np.random.rand(NUM_RECORDS) < fraud_prob).astype(int)\n",
    "\n",
    "# Generate readmit_30d (higher if inpatient or chronic)\n",
    "readmit = np.zeros(NUM_RECORDS, dtype=int)\n",
    "readmit_prob = 0.1 + 0.2 * (num_inpatient_stays > 0) + 0.1 * (chronic_count >= 3)\n",
    "readmit_30d = (np.random.rand(NUM_RECORDS) < readmit_prob).astype(int)\n",
    "\n",
    "# Assemble into DataFrame\n",
    "data = pd.DataFrame({\n",
    "    'age': age, 'gender': gender, 'region': region, 'provider_type': provider_type,\n",
    "    'chronic_condition_count': chronic_count, 'primary_diagnosis': primary_dx,\n",
    "    'num_visits': num_visits, 'num_er_visits': num_er_visits, 'num_inpatient_stays': num_inpatient_stays,\n",
    "    'claim_cost': claim_cost, 'is_fraud': is_fraud, 'readmit_30d': readmit_30d\n",
    "})\n",
    "# Introduce some missing values for realism\n",
    "for col in ['gender', 'primary_diagnosis']:\n",
    "    data.loc[data.sample(frac=0.01).index, col] = None  # ~1% missing in some categorical columns\n",
    "\n",
    "# Save to CSV\n",
    "data.to_csv('data/health_insurance_claims.csv', index=False)\n",
    "print(\"Synthetic data saved to data/synthetic_claims.csv\")\n"
   ]
  },
  {
   "cell_type": "code",
   "execution_count": 10,
   "id": "6cdd8717-f5ce-40cc-a5ca-e1432abae9f0",
   "metadata": {},
   "outputs": [
    {
     "name": "stdout",
     "output_type": "stream",
     "text": [
      "C:\\Users\\tpjcw\\Healthcare Claims ML\n"
     ]
    }
   ],
   "source": [
    "import os\n",
    "print(os.getcwd())\n"
   ]
  },
  {
   "cell_type": "code",
   "execution_count": null,
   "id": "a2a28033-d4c9-424c-b7f7-7ac1f7e2e177",
   "metadata": {},
   "outputs": [],
   "source": []
  }
 ],
 "metadata": {
  "kernelspec": {
   "display_name": "Python [conda env:base] *",
   "language": "python",
   "name": "conda-base-py"
  },
  "language_info": {
   "codemirror_mode": {
    "name": "ipython",
    "version": 3
   },
   "file_extension": ".py",
   "mimetype": "text/x-python",
   "name": "python",
   "nbconvert_exporter": "python",
   "pygments_lexer": "ipython3",
   "version": "3.12.7"
  }
 },
 "nbformat": 4,
 "nbformat_minor": 5
}
